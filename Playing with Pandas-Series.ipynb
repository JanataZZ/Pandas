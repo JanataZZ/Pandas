{
 "cells": [
  {
   "cell_type": "code",
   "execution_count": 1,
   "id": "591f18f7",
   "metadata": {},
   "outputs": [],
   "source": [
    "import pandas as pd"
   ]
  },
  {
   "cell_type": "code",
   "execution_count": 7,
   "id": "751ee64e",
   "metadata": {
    "collapsed": true
   },
   "outputs": [
    {
     "name": "stderr",
     "output_type": "stream",
     "text": [
      "C:\\Users\\Zhanat\\AppData\\Local\\Temp\\ipykernel_9668\\277936789.py:1: FutureWarning: The squeeze argument has been deprecated and will be removed in a future version. Append .squeeze(\"columns\") to the call to squeeze.\n",
      "\n",
      "\n",
      "  bigmac = pd.read_csv('bigmac.csv', usecols=['Country'], squeeze=True)\n"
     ]
    }
   ],
   "source": [
    "bigmac = pd.read_csv('bigmac.csv', usecols=['Country'], squeeze=True)"
   ]
  },
  {
   "cell_type": "code",
   "execution_count": 10,
   "id": "a8d4b991",
   "metadata": {},
   "outputs": [
    {
     "data": {
      "text/plain": [
       "225    Argentina\n",
       "168    Argentina\n",
       "112    Argentina\n",
       "56     Argentina\n",
       "0      Argentina\n",
       "Name: Country, dtype: object"
      ]
     },
     "execution_count": 10,
     "metadata": {},
     "output_type": "execute_result"
    }
   ],
   "source": [
    "bigmac.sort_values(ascending=False).tail()"
   ]
  },
  {
   "cell_type": "code",
   "execution_count": 17,
   "id": "5cf5d9db",
   "metadata": {},
   "outputs": [],
   "source": [
    "bigmac.sort_values(ascending=False, inplace=True)"
   ]
  },
  {
   "cell_type": "code",
   "execution_count": 18,
   "id": "d6c5ed9d",
   "metadata": {},
   "outputs": [
    {
     "data": {
      "text/plain": [
       "269    Vietnam\n",
       "155    Vietnam\n",
       "212    Vietnam\n",
       "43     Vietnam\n",
       "99     Vietnam\n",
       "Name: Country, dtype: object"
      ]
     },
     "execution_count": 18,
     "metadata": {},
     "output_type": "execute_result"
    }
   ],
   "source": [
    "bigmac.head()"
   ]
  },
  {
   "cell_type": "code",
   "execution_count": 23,
   "id": "aff8a9aa",
   "metadata": {},
   "outputs": [],
   "source": [
    "bigmac.sort_index(inplace=True)"
   ]
  },
  {
   "cell_type": "code",
   "execution_count": 24,
   "id": "aba4380a",
   "metadata": {},
   "outputs": [
    {
     "data": {
      "text/plain": [
       "0    Argentina\n",
       "1    Australia\n",
       "2       Brazil\n",
       "3      Britain\n",
       "4       Canada\n",
       "Name: Country, dtype: object"
      ]
     },
     "execution_count": 24,
     "metadata": {},
     "output_type": "execute_result"
    }
   ],
   "source": [
    "bigmac.head()"
   ]
  },
  {
   "cell_type": "code",
   "execution_count": 25,
   "id": "71df5868",
   "metadata": {},
   "outputs": [
    {
     "data": {
      "text/plain": [
       "False"
      ]
     },
     "execution_count": 25,
     "metadata": {},
     "output_type": "execute_result"
    }
   ],
   "source": [
    "'Brazil' in bigmac"
   ]
  },
  {
   "cell_type": "code",
   "execution_count": 26,
   "id": "656bb2fd",
   "metadata": {},
   "outputs": [
    {
     "data": {
      "text/plain": [
       "True"
      ]
     },
     "execution_count": 26,
     "metadata": {},
     "output_type": "execute_result"
    }
   ],
   "source": [
    "'Brazil' in bigmac.values"
   ]
  },
  {
   "cell_type": "code",
   "execution_count": 27,
   "id": "adcc88a7",
   "metadata": {},
   "outputs": [
    {
     "data": {
      "text/plain": [
       "1        Australia\n",
       "100        Austria\n",
       "200    South Korea\n",
       "Name: Country, dtype: object"
      ]
     },
     "execution_count": 27,
     "metadata": {},
     "output_type": "execute_result"
    }
   ],
   "source": [
    "bigmac[[1, 100, 200]]"
   ]
  },
  {
   "cell_type": "code",
   "execution_count": 28,
   "id": "77597749",
   "metadata": {},
   "outputs": [
    {
     "data": {
      "text/plain": [
       "622       Hong Kong\n",
       "623         Hungary\n",
       "624       Indonesia\n",
       "625          Israel\n",
       "626           Japan\n",
       "627          Latvia\n",
       "628       Lithuania\n",
       "629        Malaysia\n",
       "630          Mexico\n",
       "631     New Zealand\n",
       "632          Norway\n",
       "633        Pakistan\n",
       "634            Peru\n",
       "635     Philippines\n",
       "636          Poland\n",
       "637          Russia\n",
       "638    Saudi Arabia\n",
       "639       Singapore\n",
       "640    South Africa\n",
       "641     South Korea\n",
       "Name: Country, dtype: object"
      ]
     },
     "execution_count": 28,
     "metadata": {},
     "output_type": "execute_result"
    }
   ],
   "source": [
    "bigmac[-30:-10]"
   ]
  },
  {
   "cell_type": "code",
   "execution_count": 51,
   "id": "c04cc490",
   "metadata": {},
   "outputs": [
    {
     "name": "stderr",
     "output_type": "stream",
     "text": [
      "C:\\Users\\Zhanat\\AppData\\Local\\Temp\\ipykernel_9668\\3506711415.py:1: FutureWarning: The squeeze argument has been deprecated and will be removed in a future version. Append .squeeze(\"columns\") to the call to squeeze.\n",
      "\n",
      "\n",
      "  bigmac_2 = pd.read_csv('bigmac.csv', index_col='Country', squeeze=True)\n"
     ]
    }
   ],
   "source": [
    "bigmac_2 = pd.read_csv('bigmac.csv', index_col='Country', squeeze=True)"
   ]
  },
  {
   "cell_type": "code",
   "execution_count": 52,
   "id": "54bde171",
   "metadata": {},
   "outputs": [
    {
     "data": {
      "text/html": [
       "<div>\n",
       "<style scoped>\n",
       "    .dataframe tbody tr th:only-of-type {\n",
       "        vertical-align: middle;\n",
       "    }\n",
       "\n",
       "    .dataframe tbody tr th {\n",
       "        vertical-align: top;\n",
       "    }\n",
       "\n",
       "    .dataframe thead th {\n",
       "        text-align: right;\n",
       "    }\n",
       "</style>\n",
       "<table border=\"1\" class=\"dataframe\">\n",
       "  <thead>\n",
       "    <tr style=\"text-align: right;\">\n",
       "      <th></th>\n",
       "      <th>Date</th>\n",
       "      <th>Price in US Dollars</th>\n",
       "    </tr>\n",
       "    <tr>\n",
       "      <th>Country</th>\n",
       "      <th></th>\n",
       "      <th></th>\n",
       "    </tr>\n",
       "  </thead>\n",
       "  <tbody>\n",
       "    <tr>\n",
       "      <th>Argentina</th>\n",
       "      <td>1/2016</td>\n",
       "      <td>2.39</td>\n",
       "    </tr>\n",
       "    <tr>\n",
       "      <th>Australia</th>\n",
       "      <td>1/2016</td>\n",
       "      <td>3.74</td>\n",
       "    </tr>\n",
       "    <tr>\n",
       "      <th>Brazil</th>\n",
       "      <td>1/2016</td>\n",
       "      <td>3.35</td>\n",
       "    </tr>\n",
       "    <tr>\n",
       "      <th>Britain</th>\n",
       "      <td>1/2016</td>\n",
       "      <td>4.22</td>\n",
       "    </tr>\n",
       "    <tr>\n",
       "      <th>Canada</th>\n",
       "      <td>1/2016</td>\n",
       "      <td>4.14</td>\n",
       "    </tr>\n",
       "  </tbody>\n",
       "</table>\n",
       "</div>"
      ],
      "text/plain": [
       "             Date  Price in US Dollars\n",
       "Country                               \n",
       "Argentina  1/2016                 2.39\n",
       "Australia  1/2016                 3.74\n",
       "Brazil     1/2016                 3.35\n",
       "Britain    1/2016                 4.22\n",
       "Canada     1/2016                 4.14"
      ]
     },
     "execution_count": 52,
     "metadata": {},
     "output_type": "execute_result"
    }
   ],
   "source": [
    "bigmac_2.head()"
   ]
  },
  {
   "cell_type": "code",
   "execution_count": 45,
   "id": "f890104a",
   "metadata": {},
   "outputs": [
    {
     "data": {
      "text/html": [
       "<div>\n",
       "<style scoped>\n",
       "    .dataframe tbody tr th:only-of-type {\n",
       "        vertical-align: middle;\n",
       "    }\n",
       "\n",
       "    .dataframe tbody tr th {\n",
       "        vertical-align: top;\n",
       "    }\n",
       "\n",
       "    .dataframe thead th {\n",
       "        text-align: right;\n",
       "    }\n",
       "</style>\n",
       "<table border=\"1\" class=\"dataframe\">\n",
       "  <thead>\n",
       "    <tr style=\"text-align: right;\">\n",
       "      <th></th>\n",
       "      <th>Date</th>\n",
       "      <th>Price in US Dollars</th>\n",
       "    </tr>\n",
       "    <tr>\n",
       "      <th>Country</th>\n",
       "      <th></th>\n",
       "      <th></th>\n",
       "    </tr>\n",
       "  </thead>\n",
       "  <tbody>\n",
       "    <tr>\n",
       "      <th>South Africa</th>\n",
       "      <td>1/2016</td>\n",
       "      <td>1.77</td>\n",
       "    </tr>\n",
       "    <tr>\n",
       "      <th>South Korea</th>\n",
       "      <td>1/2016</td>\n",
       "      <td>3.59</td>\n",
       "    </tr>\n",
       "    <tr>\n",
       "      <th>Sri Lanka</th>\n",
       "      <td>1/2016</td>\n",
       "      <td>2.43</td>\n",
       "    </tr>\n",
       "    <tr>\n",
       "      <th>Sweden</th>\n",
       "      <td>1/2016</td>\n",
       "      <td>5.23</td>\n",
       "    </tr>\n",
       "    <tr>\n",
       "      <th>Switzerland</th>\n",
       "      <td>1/2016</td>\n",
       "      <td>6.44</td>\n",
       "    </tr>\n",
       "  </tbody>\n",
       "</table>\n",
       "</div>"
      ],
      "text/plain": [
       "                Date  Price in US Dollars\n",
       "Country                                  \n",
       "South Africa  1/2016                 1.77\n",
       "South Korea   1/2016                 3.59\n",
       "Sri Lanka     1/2016                 2.43\n",
       "Sweden        1/2016                 5.23\n",
       "Switzerland   1/2016                 6.44"
      ]
     },
     "execution_count": 45,
     "metadata": {},
     "output_type": "execute_result"
    }
   ],
   "source": [
    "bigmac_2[30:35]"
   ]
  },
  {
   "cell_type": "code",
   "execution_count": 57,
   "id": "32f4ed08",
   "metadata": {},
   "outputs": [
    {
     "data": {
      "text/html": [
       "<div>\n",
       "<style scoped>\n",
       "    .dataframe tbody tr th:only-of-type {\n",
       "        vertical-align: middle;\n",
       "    }\n",
       "\n",
       "    .dataframe tbody tr th {\n",
       "        vertical-align: top;\n",
       "    }\n",
       "\n",
       "    .dataframe thead th {\n",
       "        text-align: right;\n",
       "    }\n",
       "</style>\n",
       "<table border=\"1\" class=\"dataframe\">\n",
       "  <thead>\n",
       "    <tr style=\"text-align: right;\">\n",
       "      <th></th>\n",
       "      <th>Date</th>\n",
       "      <th>Price in US Dollars</th>\n",
       "    </tr>\n",
       "    <tr>\n",
       "      <th>Country</th>\n",
       "      <th></th>\n",
       "      <th></th>\n",
       "    </tr>\n",
       "  </thead>\n",
       "  <tbody>\n",
       "    <tr>\n",
       "      <th>Argentina</th>\n",
       "      <td>1/2016</td>\n",
       "      <td>2.39</td>\n",
       "    </tr>\n",
       "    <tr>\n",
       "      <th>Australia</th>\n",
       "      <td>1/2016</td>\n",
       "      <td>3.74</td>\n",
       "    </tr>\n",
       "    <tr>\n",
       "      <th>Brazil</th>\n",
       "      <td>1/2016</td>\n",
       "      <td>3.35</td>\n",
       "    </tr>\n",
       "    <tr>\n",
       "      <th>Britain</th>\n",
       "      <td>1/2016</td>\n",
       "      <td>4.22</td>\n",
       "    </tr>\n",
       "    <tr>\n",
       "      <th>Canada</th>\n",
       "      <td>1/2016</td>\n",
       "      <td>4.14</td>\n",
       "    </tr>\n",
       "  </tbody>\n",
       "</table>\n",
       "</div>"
      ],
      "text/plain": [
       "             Date  Price in US Dollars\n",
       "Country                               \n",
       "Argentina  1/2016                 2.39\n",
       "Australia  1/2016                 3.74\n",
       "Brazil     1/2016                 3.35\n",
       "Britain    1/2016                 4.22\n",
       "Canada     1/2016                 4.14"
      ]
     },
     "execution_count": 57,
     "metadata": {},
     "output_type": "execute_result"
    }
   ],
   "source": [
    "bigmac_2.head()"
   ]
  },
  {
   "cell_type": "code",
   "execution_count": 76,
   "id": "5641cab5",
   "metadata": {},
   "outputs": [
    {
     "data": {
      "text/plain": [
       "'Britain'"
      ]
     },
     "execution_count": 76,
     "metadata": {},
     "output_type": "execute_result"
    }
   ],
   "source": [
    "bigmac.get(3)"
   ]
  },
  {
   "cell_type": "code",
   "execution_count": 77,
   "id": "823cf455",
   "metadata": {},
   "outputs": [
    {
     "data": {
      "text/plain": [
       "652"
      ]
     },
     "execution_count": 77,
     "metadata": {},
     "output_type": "execute_result"
    }
   ],
   "source": [
    "bigmac.count()"
   ]
  },
  {
   "cell_type": "code",
   "execution_count": 78,
   "id": "a4262f43",
   "metadata": {},
   "outputs": [
    {
     "data": {
      "text/plain": [
       "'ArgentinaAustraliaBrazilBritainCanadaChileChinaColombiaCosta RicaCzech RepublicDenmarkEgyptEuro areaHong KongHungaryIndiaIndonesiaIsraelJapanMalaysiaMexicoNew ZealandNorwayPakistanPeruPhilippinesPolandRussiaSaudi ArabiaSingaporeSouth AfricaSouth KoreaSri LankaSwedenSwitzerlandTaiwanThailandTurkeyUAEUkraineUnited StatesUruguayVenezuelaVietnamAustriaBelgiumEstoniaFinlandFranceGermanyGreeceIrelandItalyNetherlandsPortugalSpainArgentinaAustraliaBrazilBritainCanadaChileChinaColombiaCosta RicaCzech RepublicDenmarkEgyptEuro areaHong KongHungaryIndiaIndonesiaIsraelJapanMalaysiaMexicoNew ZealandNorwayPakistanPeruPhilippinesPolandRussiaSaudi ArabiaSingaporeSouth AfricaSouth KoreaSri LankaSwedenSwitzerlandTaiwanThailandTurkeyUAEUkraineUnited StatesUruguayVenezuelaVietnamAustriaBelgiumEstoniaFinlandFranceGermanyGreeceIrelandItalyNetherlandsPortugalSpainArgentinaAustraliaBrazilBritainCanadaChileChinaColombiaCosta RicaCzech RepublicDenmarkEgyptEuro areaHong KongHungaryIndiaIndonesiaIsraelJapanMalaysiaMexicoNew ZealandNorwayPakistanPeruPhilippinesPolandRussiaSaudi ArabiaSingaporeSouth AfricaSouth KoreaSri LankaSwedenSwitzerlandTaiwanThailandTurkeyUAEUkraineUnited StatesUruguayVenezuelaVietnamAustriaBelgiumEstoniaFinlandFranceGermanyGreeceIrelandItalyNetherlandsPortugalSpainArgentinaAustraliaBrazilBritainCanadaChileChinaColombiaCosta RicaCzech RepublicDenmarkEgyptEuro areaHong KongHungaryIndiaIndonesiaIsraelJapanLithuaniaMalaysiaMexicoNew ZealandNorwayPakistanPeruPhilippinesPolandRussiaSaudi ArabiaSingaporeSouth AfricaSouth KoreaSri LankaSwedenSwitzerlandTaiwanThailandTurkeyUAEUkraineUnited StatesUruguayVenezuelaVietnamAustriaBelgiumEstoniaFinlandFranceGermanyGreeceIrelandItalyNetherlandsPortugalSpainArgentinaAustraliaBrazilBritainCanadaChileChinaColombiaCosta RicaCzech RepublicDenmarkEgyptEuro areaHong KongHungaryIndiaIndonesiaIsraelJapanLithuaniaMalaysiaMexicoNew ZealandNorwayPakistanPeruPhilippinesPolandRussiaSaudi ArabiaSingaporeSouth AfricaSouth KoreaSri LankaSwedenSwitzerlandTaiwanThailandTurkeyUAEUkraineUnited StatesUruguayVenezuelaVietnamAustriaBelgiumEstoniaFinlandFranceGermanyGreeceIrelandItalyNetherlandsPortugalSpainArgentinaAustraliaBrazilBritainCanadaChileChinaColombiaCosta RicaCzech RepublicDenmarkEgyptEuro areaHong KongHungaryIndiaIndonesiaIsraelJapanLatviaLithuaniaMalaysiaMexicoNew ZealandNorwayPakistanPeruPhilippinesPolandRussiaSaudi ArabiaSingaporeSouth AfricaSouth KoreaSri LankaSwedenSwitzerlandTaiwanThailandTurkeyUAEUkraineUnited StatesUruguayVenezuelaAustriaBelgiumEstoniaFinlandFranceGermanyGreeceIrelandItalyNetherlandsPortugalSpainArgentinaAustraliaBrazilBritainCanadaChileChinaColombiaCosta RicaCzech RepublicDenmarkEgyptEuro areaHong KongHungaryIndiaIndonesiaIsraelJapanLatviaLithuaniaMalaysiaMexicoNew ZealandNorwayPakistanPeruPhilippinesPolandRussiaSaudi ArabiaSingaporeSouth AfricaSouth KoreaSri LankaSwedenSwitzerlandTaiwanThailandTurkeyUAEUkraineUnited StatesUruguayVenezuelaAustriaBelgiumEstoniaFinlandFranceGermanyGreeceIrelandItalyNetherlandsPortugalSpainArgentinaAustraliaBrazilBritainCanadaChileChinaColombiaCosta RicaCzech RepublicDenmarkEgyptEuro areaHong KongHungaryIndiaIndonesiaIsraelJapanLatviaLithuaniaMalaysiaMexicoNew ZealandNorwayPakistanPhilippinesPolandRussiaSaudi ArabiaSingaporeSouth AfricaSouth KoreaSri LankaSwedenSwitzerlandTaiwanThailandTurkeyUAEUkraineUnited StatesUruguayVenezuelaAustriaBelgiumEstoniaFinlandFranceGermanyGreeceIrelandItalyNetherlandsPortugalSpainArgentinaAustraliaBrazilBritainCanadaChileChinaColombiaCosta RicaCzech RepublicDenmarkEgyptEuro areaHong KongHungaryIndiaIndonesiaIsraelJapanLatviaLithuaniaMalaysiaMexicoNew ZealandNorwayPakistanPeruPhilippinesPolandRussiaSaudi ArabiaSingaporeSouth AfricaSouth KoreaSri LankaSwedenSwitzerlandTaiwanThailandTurkeyUAEUkraineUnited StatesUruguayVenezuelaAustriaBelgiumEstoniaFinlandFranceGermanyGreeceIrelandItalyNetherlandsPortugalSpainArgentinaAustraliaBrazilBritainCanadaChileChinaColombiaCosta RicaCzech RepublicDenmarkEgyptEuro areaHong KongHungaryIndiaIndonesiaIsraelJapanLatviaLithuaniaMalaysiaMexicoNew ZealandNorwayPakistanPeruPhilippinesPolandRussiaSaudi ArabiaSingaporeSouth AfricaSouth KoreaSri LankaSwedenSwitzerlandTaiwanThailandTurkeyUAEUkraineUnited StatesUruguayVenezuelaAustriaBelgiumEstoniaFinlandFranceGermanyGreeceIrelandItalyNetherlandsPortugalSpainArgentinaAustraliaBrazilBritainCanadaChileChinaColombiaCosta RicaCzech RepublicDenmarkEgyptEuro areaHong KongHungaryIndonesiaIsraelJapanLatviaLithuaniaMalaysiaMexicoNew ZealandNorwayPakistanPeruPhilippinesPolandRussiaSaudi ArabiaSingaporeSouth AfricaSouth KoreaSri LankaSwedenSwitzerlandTaiwanThailandTurkeyUAEUkraineUnited StatesUruguayArgentinaAustraliaBrazilBritainCanadaChileChinaColombiaCosta RicaCzech RepublicDenmarkEgyptEuro areaHong KongHungaryIndonesiaIsraelJapanLatviaLithuaniaMalaysiaMexicoNew ZealandNorwayPakistanPeruPhilippinesPolandRussiaSaudi ArabiaSingaporeSouth AfricaSouth KoreaSri LankaSwedenSwitzerlandTaiwanThailandTurkeyUAEUkraineUnited StatesUruguay'"
      ]
     },
     "execution_count": 78,
     "metadata": {},
     "output_type": "execute_result"
    }
   ],
   "source": [
    "bigmac.sum()"
   ]
  },
  {
   "cell_type": "code",
   "execution_count": 81,
   "id": "845d6bda",
   "metadata": {},
   "outputs": [
    {
     "data": {
      "text/plain": [
       "'Argentina'"
      ]
     },
     "execution_count": 81,
     "metadata": {},
     "output_type": "execute_result"
    }
   ],
   "source": [
    "bigmac.min()"
   ]
  },
  {
   "cell_type": "code",
   "execution_count": 82,
   "id": "43bd94f8",
   "metadata": {},
   "outputs": [
    {
     "data": {
      "text/plain": [
       "'Vietnam'"
      ]
     },
     "execution_count": 82,
     "metadata": {},
     "output_type": "execute_result"
    }
   ],
   "source": [
    "bigmac.max()"
   ]
  },
  {
   "cell_type": "code",
   "execution_count": 83,
   "id": "438d8289",
   "metadata": {},
   "outputs": [
    {
     "data": {
      "text/plain": [
       "0          Argentina\n",
       "1          Australia\n",
       "2             Brazil\n",
       "3            Britain\n",
       "4             Canada\n",
       "5              Chile\n",
       "6              China\n",
       "7           Colombia\n",
       "8         Costa Rica\n",
       "9     Czech Republic\n",
       "10           Denmark\n",
       "11             Egypt\n",
       "12         Euro area\n",
       "13         Hong Kong\n",
       "14           Hungary\n",
       "15         Indonesia\n",
       "16            Israel\n",
       "17             Japan\n",
       "18          Malaysia\n",
       "19            Mexico\n",
       "20       New Zealand\n",
       "21            Norway\n",
       "22          Pakistan\n",
       "23       Philippines\n",
       "24            Poland\n",
       "25            Russia\n",
       "26      Saudi Arabia\n",
       "27         Singapore\n",
       "28      South Africa\n",
       "29       South Korea\n",
       "30         Sri Lanka\n",
       "31            Sweden\n",
       "32       Switzerland\n",
       "33            Taiwan\n",
       "34          Thailand\n",
       "35            Turkey\n",
       "36               UAE\n",
       "37           Ukraine\n",
       "38     United States\n",
       "39           Uruguay\n",
       "Name: Country, dtype: object"
      ]
     },
     "execution_count": 83,
     "metadata": {},
     "output_type": "execute_result"
    }
   ],
   "source": [
    "bigmac.mode()"
   ]
  },
  {
   "cell_type": "code",
   "execution_count": 84,
   "id": "08f52c50",
   "metadata": {},
   "outputs": [
    {
     "data": {
      "text/plain": [
       "array(['Argentina', 'Australia', 'Brazil', 'Britain', 'Canada', 'Chile',\n",
       "       'China', 'Colombia', 'Costa Rica', 'Czech Republic', 'Denmark',\n",
       "       'Egypt', 'Euro area', 'Hong Kong', 'Hungary', 'India', 'Indonesia',\n",
       "       'Israel', 'Japan', 'Malaysia', 'Mexico', 'New Zealand', 'Norway',\n",
       "       'Pakistan', 'Peru', 'Philippines', 'Poland', 'Russia',\n",
       "       'Saudi Arabia', 'Singapore', 'South Africa', 'South Korea',\n",
       "       'Sri Lanka', 'Sweden', 'Switzerland', 'Taiwan', 'Thailand',\n",
       "       'Turkey', 'UAE', 'Ukraine', 'United States', 'Uruguay',\n",
       "       'Venezuela', 'Vietnam', 'Austria', 'Belgium', 'Estonia', 'Finland',\n",
       "       'France', 'Germany', 'Greece', 'Ireland', 'Italy', 'Netherlands',\n",
       "       'Portugal', 'Spain', 'Lithuania', 'Latvia'], dtype=object)"
      ]
     },
     "execution_count": 84,
     "metadata": {},
     "output_type": "execute_result"
    }
   ],
   "source": [
    "bigmac.unique()"
   ]
  },
  {
   "cell_type": "code",
   "execution_count": 85,
   "id": "90f7a41a",
   "metadata": {},
   "outputs": [
    {
     "data": {
      "text/plain": [
       "count           652\n",
       "unique           58\n",
       "top       Argentina\n",
       "freq             12\n",
       "Name: Country, dtype: object"
      ]
     },
     "execution_count": 85,
     "metadata": {},
     "output_type": "execute_result"
    }
   ],
   "source": [
    "bigmac.describe()"
   ]
  },
  {
   "cell_type": "code",
   "execution_count": 86,
   "id": "d9592819",
   "metadata": {},
   "outputs": [
    {
     "name": "stdout",
     "output_type": "stream",
     "text": [
      "<class 'pandas.core.series.Series'>\n",
      "Int64Index: 652 entries, 0 to 651\n",
      "Series name: Country\n",
      "Non-Null Count  Dtype \n",
      "--------------  ----- \n",
      "652 non-null    object\n",
      "dtypes: object(1)\n",
      "memory usage: 26.4+ KB\n"
     ]
    }
   ],
   "source": [
    "bigmac.info()"
   ]
  },
  {
   "cell_type": "code",
   "execution_count": 88,
   "id": "389fcde7",
   "metadata": {},
   "outputs": [
    {
     "data": {
      "text/plain": [
       "Argentina         12\n",
       "Sri Lanka         12\n",
       "Pakistan          12\n",
       "Philippines       12\n",
       "Poland            12\n",
       "Russia            12\n",
       "Saudi Arabia      12\n",
       "Australia         12\n",
       "South Africa      12\n",
       "South Korea       12\n",
       "Sweden            12\n",
       "New Zealand       12\n",
       "Switzerland       12\n",
       "Taiwan            12\n",
       "Thailand          12\n",
       "Turkey            12\n",
       "UAE               12\n",
       "Ukraine           12\n",
       "United States     12\n",
       "Uruguay           12\n",
       "Norway            12\n",
       "Singapore         12\n",
       "Mexico            12\n",
       "Denmark           12\n",
       "Brazil            12\n",
       "Malaysia          12\n",
       "Canada            12\n",
       "Chile             12\n",
       "China             12\n",
       "Colombia          12\n",
       "Costa Rica        12\n",
       "Czech Republic    12\n",
       "Britain           12\n",
       "Egypt             12\n",
       "Hong Kong         12\n",
       "Hungary           12\n",
       "Indonesia         12\n",
       "Israel            12\n",
       "Japan             12\n",
       "Euro area         12\n",
       "Peru              11\n",
       "Germany           10\n",
       "Spain             10\n",
       "Portugal          10\n",
       "Netherlands       10\n",
       "Italy             10\n",
       "Ireland           10\n",
       "Greece            10\n",
       "Belgium           10\n",
       "France            10\n",
       "Finland           10\n",
       "Estonia           10\n",
       "Austria           10\n",
       "Venezuela         10\n",
       "India             10\n",
       "Lithuania          9\n",
       "Latvia             7\n",
       "Vietnam            5\n",
       "Name: Country, dtype: int64"
      ]
     },
     "execution_count": 88,
     "metadata": {},
     "output_type": "execute_result"
    }
   ],
   "source": [
    "bigmac.value_counts()"
   ]
  },
  {
   "cell_type": "code",
   "execution_count": 89,
   "id": "69dfa1fb",
   "metadata": {},
   "outputs": [
    {
     "data": {
      "text/plain": [
       "Date    Price in US Dollars\n",
       "1/2010  1.83                   3\n",
       "7/2011  5.02                   3\n",
       "7/2012  4.16                   3\n",
       "7/2011  4.07                   3\n",
       "7/2015  4.05                   3\n",
       "                              ..\n",
       "1/2015  2.22                   1\n",
       "        2.24                   1\n",
       "        2.30                   1\n",
       "        2.43                   1\n",
       "7/2015  6.82                   1\n",
       "Length: 613, dtype: int64"
      ]
     },
     "execution_count": 89,
     "metadata": {},
     "output_type": "execute_result"
    }
   ],
   "source": [
    "bigmac_2.value_counts()"
   ]
  },
  {
   "cell_type": "code",
   "execution_count": 93,
   "id": "de985fcb",
   "metadata": {},
   "outputs": [],
   "source": [
    "def classified(number):\n",
    "    if number >= 10:\n",
    "        return 1\n",
    "    else:\n",
    "        return 2"
   ]
  },
  {
   "cell_type": "code",
   "execution_count": 94,
   "id": "8a0cf77e",
   "metadata": {},
   "outputs": [
    {
     "data": {
      "text/plain": [
       "Argentina         1\n",
       "Sri Lanka         1\n",
       "Pakistan          1\n",
       "Philippines       1\n",
       "Poland            1\n",
       "Russia            1\n",
       "Saudi Arabia      1\n",
       "Australia         1\n",
       "South Africa      1\n",
       "South Korea       1\n",
       "Sweden            1\n",
       "New Zealand       1\n",
       "Switzerland       1\n",
       "Taiwan            1\n",
       "Thailand          1\n",
       "Turkey            1\n",
       "UAE               1\n",
       "Ukraine           1\n",
       "United States     1\n",
       "Uruguay           1\n",
       "Norway            1\n",
       "Singapore         1\n",
       "Mexico            1\n",
       "Denmark           1\n",
       "Brazil            1\n",
       "Malaysia          1\n",
       "Canada            1\n",
       "Chile             1\n",
       "China             1\n",
       "Colombia          1\n",
       "Costa Rica        1\n",
       "Czech Republic    1\n",
       "Britain           1\n",
       "Egypt             1\n",
       "Hong Kong         1\n",
       "Hungary           1\n",
       "Indonesia         1\n",
       "Israel            1\n",
       "Japan             1\n",
       "Euro area         1\n",
       "Peru              1\n",
       "Germany           1\n",
       "Spain             1\n",
       "Portugal          1\n",
       "Netherlands       1\n",
       "Italy             1\n",
       "Ireland           1\n",
       "Greece            1\n",
       "Belgium           1\n",
       "France            1\n",
       "Finland           1\n",
       "Estonia           1\n",
       "Austria           1\n",
       "Venezuela         1\n",
       "India             1\n",
       "Lithuania         2\n",
       "Latvia            2\n",
       "Vietnam           2\n",
       "Name: Country, dtype: int64"
      ]
     },
     "execution_count": 94,
     "metadata": {},
     "output_type": "execute_result"
    }
   ],
   "source": [
    "bigmac.value_counts().apply(classified)"
   ]
  },
  {
   "cell_type": "code",
   "execution_count": 101,
   "id": "f91a48e2",
   "metadata": {},
   "outputs": [],
   "source": [
    "def performance(country):\n",
    "    if country == 'Brazil':\n",
    "        return 'OK'\n",
    "    else:\n",
    "        return 'Great'\n"
   ]
  },
  {
   "cell_type": "code",
   "execution_count": 102,
   "id": "dfee9e1c",
   "metadata": {},
   "outputs": [
    {
     "data": {
      "text/plain": [
       "0      Great\n",
       "1      Great\n",
       "2         OK\n",
       "3      Great\n",
       "4      Great\n",
       "       ...  \n",
       "647    Great\n",
       "648    Great\n",
       "649    Great\n",
       "650    Great\n",
       "651    Great\n",
       "Name: Country, Length: 652, dtype: object"
      ]
     },
     "execution_count": 102,
     "metadata": {},
     "output_type": "execute_result"
    }
   ],
   "source": [
    "bigmac.apply(performance)"
   ]
  }
 ],
 "metadata": {
  "kernelspec": {
   "display_name": "Python 3 (ipykernel)",
   "language": "python",
   "name": "python3"
  },
  "language_info": {
   "codemirror_mode": {
    "name": "ipython",
    "version": 3
   },
   "file_extension": ".py",
   "mimetype": "text/x-python",
   "name": "python",
   "nbconvert_exporter": "python",
   "pygments_lexer": "ipython3",
   "version": "3.9.12"
  }
 },
 "nbformat": 4,
 "nbformat_minor": 5
}
