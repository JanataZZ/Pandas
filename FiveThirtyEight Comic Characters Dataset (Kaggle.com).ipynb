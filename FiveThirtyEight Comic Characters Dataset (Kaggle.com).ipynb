{
 "cells": [
  {
   "cell_type": "code",
   "execution_count": 1,
   "id": "d9689b10",
   "metadata": {},
   "outputs": [],
   "source": [
    "import pandas as pd"
   ]
  },
  {
   "cell_type": "code",
   "execution_count": 82,
   "id": "e369455b",
   "metadata": {},
   "outputs": [
    {
     "data": {
      "text/html": [
       "<div>\n",
       "<style scoped>\n",
       "    .dataframe tbody tr th:only-of-type {\n",
       "        vertical-align: middle;\n",
       "    }\n",
       "\n",
       "    .dataframe tbody tr th {\n",
       "        vertical-align: top;\n",
       "    }\n",
       "\n",
       "    .dataframe thead th {\n",
       "        text-align: right;\n",
       "    }\n",
       "</style>\n",
       "<table border=\"1\" class=\"dataframe\">\n",
       "  <thead>\n",
       "    <tr style=\"text-align: right;\">\n",
       "      <th></th>\n",
       "      <th>name</th>\n",
       "      <th>urlslug</th>\n",
       "      <th>ID</th>\n",
       "      <th>ALIGN</th>\n",
       "      <th>EYE</th>\n",
       "      <th>HAIR</th>\n",
       "      <th>SEX</th>\n",
       "      <th>GSM</th>\n",
       "      <th>ALIVE</th>\n",
       "      <th>APPEARANCES</th>\n",
       "      <th>FIRST APPEARANCE</th>\n",
       "      <th>YEAR</th>\n",
       "    </tr>\n",
       "    <tr>\n",
       "      <th>page_id</th>\n",
       "      <th></th>\n",
       "      <th></th>\n",
       "      <th></th>\n",
       "      <th></th>\n",
       "      <th></th>\n",
       "      <th></th>\n",
       "      <th></th>\n",
       "      <th></th>\n",
       "      <th></th>\n",
       "      <th></th>\n",
       "      <th></th>\n",
       "      <th></th>\n",
       "    </tr>\n",
       "  </thead>\n",
       "  <tbody>\n",
       "    <tr>\n",
       "      <th>1422</th>\n",
       "      <td>Batman (Bruce Wayne)</td>\n",
       "      <td>\\/wiki\\/Batman_(Bruce_Wayne)</td>\n",
       "      <td>Secret Identity</td>\n",
       "      <td>Good Characters</td>\n",
       "      <td>Blue Eyes</td>\n",
       "      <td>Black Hair</td>\n",
       "      <td>Male Characters</td>\n",
       "      <td>NaN</td>\n",
       "      <td>Living Characters</td>\n",
       "      <td>3093.0</td>\n",
       "      <td>1939, May</td>\n",
       "      <td>1939.0</td>\n",
       "    </tr>\n",
       "    <tr>\n",
       "      <th>23387</th>\n",
       "      <td>Superman (Clark Kent)</td>\n",
       "      <td>\\/wiki\\/Superman_(Clark_Kent)</td>\n",
       "      <td>Secret Identity</td>\n",
       "      <td>Good Characters</td>\n",
       "      <td>Blue Eyes</td>\n",
       "      <td>Black Hair</td>\n",
       "      <td>Male Characters</td>\n",
       "      <td>NaN</td>\n",
       "      <td>Living Characters</td>\n",
       "      <td>2496.0</td>\n",
       "      <td>1986, October</td>\n",
       "      <td>1986.0</td>\n",
       "    </tr>\n",
       "    <tr>\n",
       "      <th>1458</th>\n",
       "      <td>Green Lantern (Hal Jordan)</td>\n",
       "      <td>\\/wiki\\/Green_Lantern_(Hal_Jordan)</td>\n",
       "      <td>Secret Identity</td>\n",
       "      <td>Good Characters</td>\n",
       "      <td>Brown Eyes</td>\n",
       "      <td>Brown Hair</td>\n",
       "      <td>Male Characters</td>\n",
       "      <td>NaN</td>\n",
       "      <td>Living Characters</td>\n",
       "      <td>1565.0</td>\n",
       "      <td>1959, October</td>\n",
       "      <td>1959.0</td>\n",
       "    </tr>\n",
       "    <tr>\n",
       "      <th>1659</th>\n",
       "      <td>James Gordon (New Earth)</td>\n",
       "      <td>\\/wiki\\/James_Gordon_(New_Earth)</td>\n",
       "      <td>Public Identity</td>\n",
       "      <td>Good Characters</td>\n",
       "      <td>Brown Eyes</td>\n",
       "      <td>White Hair</td>\n",
       "      <td>Male Characters</td>\n",
       "      <td>NaN</td>\n",
       "      <td>Living Characters</td>\n",
       "      <td>1316.0</td>\n",
       "      <td>1987, February</td>\n",
       "      <td>1987.0</td>\n",
       "    </tr>\n",
       "    <tr>\n",
       "      <th>1576</th>\n",
       "      <td>Richard Grayson (New Earth)</td>\n",
       "      <td>\\/wiki\\/Richard_Grayson_(New_Earth)</td>\n",
       "      <td>Secret Identity</td>\n",
       "      <td>Good Characters</td>\n",
       "      <td>Blue Eyes</td>\n",
       "      <td>Black Hair</td>\n",
       "      <td>Male Characters</td>\n",
       "      <td>NaN</td>\n",
       "      <td>Living Characters</td>\n",
       "      <td>1237.0</td>\n",
       "      <td>1940, April</td>\n",
       "      <td>1940.0</td>\n",
       "    </tr>\n",
       "  </tbody>\n",
       "</table>\n",
       "</div>"
      ],
      "text/plain": [
       "                                name                              urlslug  \\\n",
       "page_id                                                                     \n",
       "1422            Batman (Bruce Wayne)         \\/wiki\\/Batman_(Bruce_Wayne)   \n",
       "23387          Superman (Clark Kent)        \\/wiki\\/Superman_(Clark_Kent)   \n",
       "1458      Green Lantern (Hal Jordan)   \\/wiki\\/Green_Lantern_(Hal_Jordan)   \n",
       "1659        James Gordon (New Earth)     \\/wiki\\/James_Gordon_(New_Earth)   \n",
       "1576     Richard Grayson (New Earth)  \\/wiki\\/Richard_Grayson_(New_Earth)   \n",
       "\n",
       "                      ID            ALIGN         EYE        HAIR  \\\n",
       "page_id                                                             \n",
       "1422     Secret Identity  Good Characters   Blue Eyes  Black Hair   \n",
       "23387    Secret Identity  Good Characters   Blue Eyes  Black Hair   \n",
       "1458     Secret Identity  Good Characters  Brown Eyes  Brown Hair   \n",
       "1659     Public Identity  Good Characters  Brown Eyes  White Hair   \n",
       "1576     Secret Identity  Good Characters   Blue Eyes  Black Hair   \n",
       "\n",
       "                     SEX  GSM              ALIVE  APPEARANCES  \\\n",
       "page_id                                                         \n",
       "1422     Male Characters  NaN  Living Characters       3093.0   \n",
       "23387    Male Characters  NaN  Living Characters       2496.0   \n",
       "1458     Male Characters  NaN  Living Characters       1565.0   \n",
       "1659     Male Characters  NaN  Living Characters       1316.0   \n",
       "1576     Male Characters  NaN  Living Characters       1237.0   \n",
       "\n",
       "        FIRST APPEARANCE    YEAR  \n",
       "page_id                           \n",
       "1422           1939, May  1939.0  \n",
       "23387      1986, October  1986.0  \n",
       "1458       1959, October  1959.0  \n",
       "1659      1987, February  1987.0  \n",
       "1576         1940, April  1940.0  "
      ]
     },
     "execution_count": 82,
     "metadata": {},
     "output_type": "execute_result"
    }
   ],
   "source": [
    "dc_data = pd.read_csv('dc-wikia-data.csv',index_col='page_id')\n",
    "dc_data.head()"
   ]
  },
  {
   "cell_type": "code",
   "execution_count": 83,
   "id": "c77a5654",
   "metadata": {},
   "outputs": [
    {
     "data": {
      "text/plain": [
       "(6896, 12)"
      ]
     },
     "execution_count": 83,
     "metadata": {},
     "output_type": "execute_result"
    }
   ],
   "source": [
    "dc_data.shape"
   ]
  },
  {
   "cell_type": "code",
   "execution_count": 84,
   "id": "a3da8e60",
   "metadata": {},
   "outputs": [
    {
     "data": {
      "text/plain": [
       "<bound method DataFrame.info of                                  name                               urlslug  \\\n",
       "page_id                                                                       \n",
       "1422             Batman (Bruce Wayne)          \\/wiki\\/Batman_(Bruce_Wayne)   \n",
       "23387           Superman (Clark Kent)         \\/wiki\\/Superman_(Clark_Kent)   \n",
       "1458       Green Lantern (Hal Jordan)    \\/wiki\\/Green_Lantern_(Hal_Jordan)   \n",
       "1659         James Gordon (New Earth)      \\/wiki\\/James_Gordon_(New_Earth)   \n",
       "1576      Richard Grayson (New Earth)   \\/wiki\\/Richard_Grayson_(New_Earth)   \n",
       "...                               ...                                   ...   \n",
       "66302         Nadine West (New Earth)       \\/wiki\\/Nadine_West_(New_Earth)   \n",
       "283475     Warren Harding (New Earth)    \\/wiki\\/Warren_Harding_(New_Earth)   \n",
       "283478   William Harrison (New Earth)  \\/wiki\\/William_Harrison_(New_Earth)   \n",
       "283471   William McKinley (New Earth)  \\/wiki\\/William_McKinley_(New_Earth)   \n",
       "150660             Mookie (New Earth)            \\/wiki\\/Mookie_(New_Earth)   \n",
       "\n",
       "                      ID            ALIGN         EYE        HAIR  \\\n",
       "page_id                                                             \n",
       "1422     Secret Identity  Good Characters   Blue Eyes  Black Hair   \n",
       "23387    Secret Identity  Good Characters   Blue Eyes  Black Hair   \n",
       "1458     Secret Identity  Good Characters  Brown Eyes  Brown Hair   \n",
       "1659     Public Identity  Good Characters  Brown Eyes  White Hair   \n",
       "1576     Secret Identity  Good Characters   Blue Eyes  Black Hair   \n",
       "...                  ...              ...         ...         ...   \n",
       "66302    Public Identity  Good Characters         NaN         NaN   \n",
       "283475   Public Identity  Good Characters         NaN         NaN   \n",
       "283478   Public Identity  Good Characters         NaN         NaN   \n",
       "283471   Public Identity  Good Characters         NaN         NaN   \n",
       "150660   Public Identity   Bad Characters   Blue Eyes  Blond Hair   \n",
       "\n",
       "                       SEX  GSM              ALIVE  APPEARANCES  \\\n",
       "page_id                                                           \n",
       "1422       Male Characters  NaN  Living Characters       3093.0   \n",
       "23387      Male Characters  NaN  Living Characters       2496.0   \n",
       "1458       Male Characters  NaN  Living Characters       1565.0   \n",
       "1659       Male Characters  NaN  Living Characters       1316.0   \n",
       "1576       Male Characters  NaN  Living Characters       1237.0   \n",
       "...                    ...  ...                ...          ...   \n",
       "66302    Female Characters  NaN  Living Characters          NaN   \n",
       "283475     Male Characters  NaN  Living Characters          NaN   \n",
       "283478     Male Characters  NaN  Living Characters          NaN   \n",
       "283471     Male Characters  NaN  Living Characters          NaN   \n",
       "150660     Male Characters  NaN  Living Characters          NaN   \n",
       "\n",
       "        FIRST APPEARANCE    YEAR  \n",
       "page_id                           \n",
       "1422           1939, May  1939.0  \n",
       "23387      1986, October  1986.0  \n",
       "1458       1959, October  1959.0  \n",
       "1659      1987, February  1987.0  \n",
       "1576         1940, April  1940.0  \n",
       "...                  ...     ...  \n",
       "66302                NaN     NaN  \n",
       "283475               NaN     NaN  \n",
       "283478               NaN     NaN  \n",
       "283471               NaN     NaN  \n",
       "150660               NaN     NaN  \n",
       "\n",
       "[6896 rows x 12 columns]>"
      ]
     },
     "execution_count": 84,
     "metadata": {},
     "output_type": "execute_result"
    }
   ],
   "source": [
    "dc_data.info"
   ]
  },
  {
   "cell_type": "code",
   "execution_count": 85,
   "id": "2e05560c",
   "metadata": {},
   "outputs": [
    {
     "data": {
      "text/html": [
       "<div>\n",
       "<style scoped>\n",
       "    .dataframe tbody tr th:only-of-type {\n",
       "        vertical-align: middle;\n",
       "    }\n",
       "\n",
       "    .dataframe tbody tr th {\n",
       "        vertical-align: top;\n",
       "    }\n",
       "\n",
       "    .dataframe thead th {\n",
       "        text-align: right;\n",
       "    }\n",
       "</style>\n",
       "<table border=\"1\" class=\"dataframe\">\n",
       "  <thead>\n",
       "    <tr style=\"text-align: right;\">\n",
       "      <th></th>\n",
       "      <th>name</th>\n",
       "      <th>urlslug</th>\n",
       "      <th>ID</th>\n",
       "      <th>ALIGN</th>\n",
       "      <th>EYE</th>\n",
       "      <th>HAIR</th>\n",
       "      <th>SEX</th>\n",
       "      <th>GSM</th>\n",
       "      <th>ALIVE</th>\n",
       "      <th>APPEARANCES</th>\n",
       "      <th>FIRST APPEARANCE</th>\n",
       "      <th>Year</th>\n",
       "    </tr>\n",
       "    <tr>\n",
       "      <th>page_id</th>\n",
       "      <th></th>\n",
       "      <th></th>\n",
       "      <th></th>\n",
       "      <th></th>\n",
       "      <th></th>\n",
       "      <th></th>\n",
       "      <th></th>\n",
       "      <th></th>\n",
       "      <th></th>\n",
       "      <th></th>\n",
       "      <th></th>\n",
       "      <th></th>\n",
       "    </tr>\n",
       "  </thead>\n",
       "  <tbody>\n",
       "    <tr>\n",
       "      <th>1678</th>\n",
       "      <td>Spider-Man (Peter Parker)</td>\n",
       "      <td>\\/Spider-Man_(Peter_Parker)</td>\n",
       "      <td>Secret Identity</td>\n",
       "      <td>Good Characters</td>\n",
       "      <td>Hazel Eyes</td>\n",
       "      <td>Brown Hair</td>\n",
       "      <td>Male Characters</td>\n",
       "      <td>NaN</td>\n",
       "      <td>Living Characters</td>\n",
       "      <td>4043.0</td>\n",
       "      <td>Aug-62</td>\n",
       "      <td>1962.0</td>\n",
       "    </tr>\n",
       "    <tr>\n",
       "      <th>7139</th>\n",
       "      <td>Captain America (Steven Rogers)</td>\n",
       "      <td>\\/Captain_America_(Steven_Rogers)</td>\n",
       "      <td>Public Identity</td>\n",
       "      <td>Good Characters</td>\n",
       "      <td>Blue Eyes</td>\n",
       "      <td>White Hair</td>\n",
       "      <td>Male Characters</td>\n",
       "      <td>NaN</td>\n",
       "      <td>Living Characters</td>\n",
       "      <td>3360.0</td>\n",
       "      <td>Mar-41</td>\n",
       "      <td>1941.0</td>\n",
       "    </tr>\n",
       "    <tr>\n",
       "      <th>64786</th>\n",
       "      <td>Wolverine (James \\\"Logan\\\" Howlett)</td>\n",
       "      <td>\\/Wolverine_(James_%22Logan%22_Howlett)</td>\n",
       "      <td>Public Identity</td>\n",
       "      <td>Neutral Characters</td>\n",
       "      <td>Blue Eyes</td>\n",
       "      <td>Black Hair</td>\n",
       "      <td>Male Characters</td>\n",
       "      <td>NaN</td>\n",
       "      <td>Living Characters</td>\n",
       "      <td>3061.0</td>\n",
       "      <td>Oct-74</td>\n",
       "      <td>1974.0</td>\n",
       "    </tr>\n",
       "    <tr>\n",
       "      <th>1868</th>\n",
       "      <td>Iron Man (Anthony \\\"Tony\\\" Stark)</td>\n",
       "      <td>\\/Iron_Man_(Anthony_%22Tony%22_Stark)</td>\n",
       "      <td>Public Identity</td>\n",
       "      <td>Good Characters</td>\n",
       "      <td>Blue Eyes</td>\n",
       "      <td>Black Hair</td>\n",
       "      <td>Male Characters</td>\n",
       "      <td>NaN</td>\n",
       "      <td>Living Characters</td>\n",
       "      <td>2961.0</td>\n",
       "      <td>Mar-63</td>\n",
       "      <td>1963.0</td>\n",
       "    </tr>\n",
       "    <tr>\n",
       "      <th>2460</th>\n",
       "      <td>Thor (Thor Odinson)</td>\n",
       "      <td>\\/Thor_(Thor_Odinson)</td>\n",
       "      <td>No Dual Identity</td>\n",
       "      <td>Good Characters</td>\n",
       "      <td>Blue Eyes</td>\n",
       "      <td>Blond Hair</td>\n",
       "      <td>Male Characters</td>\n",
       "      <td>NaN</td>\n",
       "      <td>Living Characters</td>\n",
       "      <td>2258.0</td>\n",
       "      <td>Nov-50</td>\n",
       "      <td>1950.0</td>\n",
       "    </tr>\n",
       "  </tbody>\n",
       "</table>\n",
       "</div>"
      ],
      "text/plain": [
       "                                        name  \\\n",
       "page_id                                        \n",
       "1678               Spider-Man (Peter Parker)   \n",
       "7139         Captain America (Steven Rogers)   \n",
       "64786    Wolverine (James \\\"Logan\\\" Howlett)   \n",
       "1868       Iron Man (Anthony \\\"Tony\\\" Stark)   \n",
       "2460                     Thor (Thor Odinson)   \n",
       "\n",
       "                                         urlslug                ID  \\\n",
       "page_id                                                              \n",
       "1678                 \\/Spider-Man_(Peter_Parker)   Secret Identity   \n",
       "7139           \\/Captain_America_(Steven_Rogers)   Public Identity   \n",
       "64786    \\/Wolverine_(James_%22Logan%22_Howlett)   Public Identity   \n",
       "1868       \\/Iron_Man_(Anthony_%22Tony%22_Stark)   Public Identity   \n",
       "2460                       \\/Thor_(Thor_Odinson)  No Dual Identity   \n",
       "\n",
       "                      ALIGN         EYE        HAIR              SEX  GSM  \\\n",
       "page_id                                                                     \n",
       "1678        Good Characters  Hazel Eyes  Brown Hair  Male Characters  NaN   \n",
       "7139        Good Characters   Blue Eyes  White Hair  Male Characters  NaN   \n",
       "64786    Neutral Characters   Blue Eyes  Black Hair  Male Characters  NaN   \n",
       "1868        Good Characters   Blue Eyes  Black Hair  Male Characters  NaN   \n",
       "2460        Good Characters   Blue Eyes  Blond Hair  Male Characters  NaN   \n",
       "\n",
       "                     ALIVE  APPEARANCES FIRST APPEARANCE    Year  \n",
       "page_id                                                           \n",
       "1678     Living Characters       4043.0           Aug-62  1962.0  \n",
       "7139     Living Characters       3360.0           Mar-41  1941.0  \n",
       "64786    Living Characters       3061.0           Oct-74  1974.0  \n",
       "1868     Living Characters       2961.0           Mar-63  1963.0  \n",
       "2460     Living Characters       2258.0           Nov-50  1950.0  "
      ]
     },
     "execution_count": 85,
     "metadata": {},
     "output_type": "execute_result"
    }
   ],
   "source": [
    "marvel_data = pd.read_csv('marvel-wikia-data.csv', index_col='page_id')\n",
    "marvel_data.head()"
   ]
  },
  {
   "cell_type": "code",
   "execution_count": 86,
   "id": "d21780c1",
   "metadata": {},
   "outputs": [
    {
     "data": {
      "text/plain": [
       "(16376, 12)"
      ]
     },
     "execution_count": 86,
     "metadata": {},
     "output_type": "execute_result"
    }
   ],
   "source": [
    "marvel_data.shape"
   ]
  },
  {
   "cell_type": "code",
   "execution_count": 87,
   "id": "02d105ef",
   "metadata": {},
   "outputs": [
    {
     "data": {
      "text/plain": [
       "<bound method DataFrame.info of                                         name  \\\n",
       "page_id                                        \n",
       "1678               Spider-Man (Peter Parker)   \n",
       "7139         Captain America (Steven Rogers)   \n",
       "64786    Wolverine (James \\\"Logan\\\" Howlett)   \n",
       "1868       Iron Man (Anthony \\\"Tony\\\" Stark)   \n",
       "2460                     Thor (Thor Odinson)   \n",
       "...                                      ...   \n",
       "657508                    Ru'ach (Earth-616)   \n",
       "665474       Thane (Thanos' son) (Earth-616)   \n",
       "695217         Tinkerer (Skrull) (Earth-616)   \n",
       "708811        TK421 (Spiderling) (Earth-616)   \n",
       "673702                 Yologarch (Earth-616)   \n",
       "\n",
       "                                         urlslug                ID  \\\n",
       "page_id                                                              \n",
       "1678                 \\/Spider-Man_(Peter_Parker)   Secret Identity   \n",
       "7139           \\/Captain_America_(Steven_Rogers)   Public Identity   \n",
       "64786    \\/Wolverine_(James_%22Logan%22_Howlett)   Public Identity   \n",
       "1868       \\/Iron_Man_(Anthony_%22Tony%22_Stark)   Public Identity   \n",
       "2460                       \\/Thor_(Thor_Odinson)  No Dual Identity   \n",
       "...                                          ...               ...   \n",
       "657508                    \\/Ru%27ach_(Earth-616)  No Dual Identity   \n",
       "665474       \\/Thane_(Thanos%27_son)_(Earth-616)  No Dual Identity   \n",
       "695217           \\/Tinkerer_(Skrull)_(Earth-616)   Secret Identity   \n",
       "708811          \\/TK421_(Spiderling)_(Earth-616)   Secret Identity   \n",
       "673702                   \\/Yologarch_(Earth-616)               NaN   \n",
       "\n",
       "                      ALIGN         EYE        HAIR              SEX  GSM  \\\n",
       "page_id                                                                     \n",
       "1678        Good Characters  Hazel Eyes  Brown Hair  Male Characters  NaN   \n",
       "7139        Good Characters   Blue Eyes  White Hair  Male Characters  NaN   \n",
       "64786    Neutral Characters   Blue Eyes  Black Hair  Male Characters  NaN   \n",
       "1868        Good Characters   Blue Eyes  Black Hair  Male Characters  NaN   \n",
       "2460        Good Characters   Blue Eyes  Blond Hair  Male Characters  NaN   \n",
       "...                     ...         ...         ...              ...  ...   \n",
       "657508       Bad Characters  Green Eyes     No Hair  Male Characters  NaN   \n",
       "665474      Good Characters   Blue Eyes        Bald  Male Characters  NaN   \n",
       "695217       Bad Characters  Black Eyes        Bald  Male Characters  NaN   \n",
       "708811   Neutral Characters         NaN         NaN  Male Characters  NaN   \n",
       "673702       Bad Characters         NaN         NaN              NaN  NaN   \n",
       "\n",
       "                     ALIVE  APPEARANCES FIRST APPEARANCE    Year  \n",
       "page_id                                                           \n",
       "1678     Living Characters       4043.0           Aug-62  1962.0  \n",
       "7139     Living Characters       3360.0           Mar-41  1941.0  \n",
       "64786    Living Characters       3061.0           Oct-74  1974.0  \n",
       "1868     Living Characters       2961.0           Mar-63  1963.0  \n",
       "2460     Living Characters       2258.0           Nov-50  1950.0  \n",
       "...                    ...          ...              ...     ...  \n",
       "657508   Living Characters          NaN              NaN     NaN  \n",
       "665474   Living Characters          NaN              NaN     NaN  \n",
       "695217   Living Characters          NaN              NaN     NaN  \n",
       "708811   Living Characters          NaN              NaN     NaN  \n",
       "673702   Living Characters          NaN              NaN     NaN  \n",
       "\n",
       "[16376 rows x 12 columns]>"
      ]
     },
     "execution_count": 87,
     "metadata": {},
     "output_type": "execute_result"
    }
   ],
   "source": [
    "marvel_data.info"
   ]
  },
  {
   "cell_type": "code",
   "execution_count": 13,
   "id": "d9d51745",
   "metadata": {},
   "outputs": [
    {
     "data": {
      "text/plain": [
       "name                   0\n",
       "urlslug                0\n",
       "ID                  2013\n",
       "ALIGN                601\n",
       "EYE                 3628\n",
       "HAIR                2274\n",
       "SEX                  125\n",
       "GSM                 6832\n",
       "ALIVE                  3\n",
       "APPEARANCES          355\n",
       "FIRST APPEARANCE      69\n",
       "YEAR                  69\n",
       "dtype: int64"
      ]
     },
     "execution_count": 13,
     "metadata": {},
     "output_type": "execute_result"
    }
   ],
   "source": [
    "dc_data.isnull().sum()"
   ]
  },
  {
   "cell_type": "code",
   "execution_count": 16,
   "id": "29633ecd",
   "metadata": {},
   "outputs": [
    {
     "data": {
      "text/plain": [
       "name                    0\n",
       "urlslug                 0\n",
       "ID                   3770\n",
       "ALIGN                2812\n",
       "EYE                  9767\n",
       "HAIR                 4264\n",
       "SEX                   854\n",
       "GSM                 16286\n",
       "ALIVE                   3\n",
       "APPEARANCES          1096\n",
       "FIRST APPEARANCE      815\n",
       "Year                  815\n",
       "dtype: int64"
      ]
     },
     "execution_count": 16,
     "metadata": {},
     "output_type": "execute_result"
    }
   ],
   "source": [
    "marvel_data.isnull().sum()"
   ]
  },
  {
   "cell_type": "code",
   "execution_count": 40,
   "id": "0dbd2d98",
   "metadata": {},
   "outputs": [
    {
     "data": {
      "text/plain": [
       "Index(['name', 'urlslug', 'ID', 'ALIGN', 'EYE', 'HAIR', 'SEX', 'GSM', 'ALIVE',\n",
       "       'APPEARANCES', 'FIRST APPEARANCE', 'YEAR'],\n",
       "      dtype='object')"
      ]
     },
     "execution_count": 40,
     "metadata": {},
     "output_type": "execute_result"
    }
   ],
   "source": [
    "dc_data.columns"
   ]
  },
  {
   "cell_type": "code",
   "execution_count": 18,
   "id": "0a6ab3f4",
   "metadata": {},
   "outputs": [
    {
     "data": {
      "text/plain": [
       "Index(['name', 'urlslug', 'ID', 'ALIGN', 'EYE', 'HAIR', 'SEX', 'GSM', 'ALIVE',\n",
       "       'APPEARANCES', 'FIRST APPEARANCE', 'Year'],\n",
       "      dtype='object')"
      ]
     },
     "execution_count": 18,
     "metadata": {},
     "output_type": "execute_result"
    }
   ],
   "source": [
    "marvel_data.columns"
   ]
  },
  {
   "cell_type": "code",
   "execution_count": null,
   "id": "cba0328a",
   "metadata": {},
   "outputs": [],
   "source": [
    "#Cleaning Data"
   ]
  },
  {
   "cell_type": "code",
   "execution_count": 41,
   "id": "f5cf0706",
   "metadata": {},
   "outputs": [],
   "source": [
    "dc_data=dc_data.drop('GSM',axis=1)"
   ]
  },
  {
   "cell_type": "code",
   "execution_count": 42,
   "id": "898662ad",
   "metadata": {},
   "outputs": [],
   "source": [
    "marvel_data=marvel_data.drop('GSM',axis=1)"
   ]
  },
  {
   "cell_type": "code",
   "execution_count": 43,
   "id": "0d9f496d",
   "metadata": {},
   "outputs": [],
   "source": [
    "dc_data['ID']=dc_data['ID'].fillna('Identity Unknown')"
   ]
  },
  {
   "cell_type": "code",
   "execution_count": 51,
   "id": "de056aff",
   "metadata": {},
   "outputs": [
    {
     "data": {
      "text/plain": [
       "6896"
      ]
     },
     "execution_count": 51,
     "metadata": {},
     "output_type": "execute_result"
    }
   ],
   "source": [
    "dc_data['ID'].value_counts().sum()"
   ]
  },
  {
   "cell_type": "code",
   "execution_count": 47,
   "id": "b6ee9398",
   "metadata": {},
   "outputs": [],
   "source": [
    "marvel_data['ID']=marvel_data['ID'].fillna('Identity Unknown')"
   ]
  },
  {
   "cell_type": "code",
   "execution_count": 50,
   "id": "ebeed244",
   "metadata": {},
   "outputs": [
    {
     "data": {
      "text/plain": [
       "16376"
      ]
     },
     "execution_count": 50,
     "metadata": {},
     "output_type": "execute_result"
    }
   ],
   "source": [
    "marvel_data['ID'].value_counts().sum()"
   ]
  },
  {
   "cell_type": "code",
   "execution_count": 52,
   "id": "1a7e28a7",
   "metadata": {},
   "outputs": [
    {
     "data": {
      "text/plain": [
       "6896"
      ]
     },
     "execution_count": 52,
     "metadata": {},
     "output_type": "execute_result"
    }
   ],
   "source": [
    "dc_data['ALIGN']=dc_data['ALIGN'].fillna('Neutral Characters')\n",
    "dc_data['ALIGN'].value_counts().sum()"
   ]
  },
  {
   "cell_type": "code",
   "execution_count": 54,
   "id": "4cbbb8e0",
   "metadata": {},
   "outputs": [
    {
     "data": {
      "text/plain": [
       "16376"
      ]
     },
     "execution_count": 54,
     "metadata": {},
     "output_type": "execute_result"
    }
   ],
   "source": [
    "marvel_data['ALIGN']=marvel_data['ALIGN'].fillna('Neutral Characters')\n",
    "marvel_data['ALIGN'].value_counts().sum()"
   ]
  },
  {
   "cell_type": "code",
   "execution_count": 58,
   "id": "f4a00f98",
   "metadata": {},
   "outputs": [
    {
     "data": {
      "text/plain": [
       "6896"
      ]
     },
     "execution_count": 58,
     "metadata": {},
     "output_type": "execute_result"
    }
   ],
   "source": [
    "dc_data['EYE']=dc_data['EYE'].fillna('Unknown Eyes')\n",
    "dc_data['EYE'].value_counts().sum()"
   ]
  },
  {
   "cell_type": "code",
   "execution_count": 60,
   "id": "6c33f42d",
   "metadata": {},
   "outputs": [
    {
     "data": {
      "text/plain": [
       "16376"
      ]
     },
     "execution_count": 60,
     "metadata": {},
     "output_type": "execute_result"
    }
   ],
   "source": [
    "marvel_data['EYE']=marvel_data['EYE'].fillna('Unknown Eyes')\n",
    "marvel_data['EYE'].value_counts().sum()"
   ]
  },
  {
   "cell_type": "code",
   "execution_count": 62,
   "id": "c1ee2990",
   "metadata": {},
   "outputs": [
    {
     "data": {
      "text/plain": [
       "6896"
      ]
     },
     "execution_count": 62,
     "metadata": {},
     "output_type": "execute_result"
    }
   ],
   "source": [
    "dc_data['HAIR']=dc_data['HAIR'].fillna('Unknown Hair')\n",
    "dc_data['HAIR'].value_counts().sum()"
   ]
  },
  {
   "cell_type": "code",
   "execution_count": 64,
   "id": "2e84121b",
   "metadata": {},
   "outputs": [
    {
     "data": {
      "text/plain": [
       "16376"
      ]
     },
     "execution_count": 64,
     "metadata": {},
     "output_type": "execute_result"
    }
   ],
   "source": [
    "marvel_data['HAIR']=marvel_data['HAIR'].fillna('Unknown Hair')\n",
    "marvel_data['HAIR'].value_counts().sum()"
   ]
  },
  {
   "cell_type": "code",
   "execution_count": 66,
   "id": "b4e03773",
   "metadata": {},
   "outputs": [
    {
     "data": {
      "text/plain": [
       "6896"
      ]
     },
     "execution_count": 66,
     "metadata": {},
     "output_type": "execute_result"
    }
   ],
   "source": [
    "dc_data['SEX']=dc_data['SEX'].fillna('Unknown Characters')\n",
    "dc_data['SEX'].value_counts().sum()"
   ]
  },
  {
   "cell_type": "code",
   "execution_count": 68,
   "id": "7bed9682",
   "metadata": {},
   "outputs": [
    {
     "data": {
      "text/plain": [
       "16376"
      ]
     },
     "execution_count": 68,
     "metadata": {},
     "output_type": "execute_result"
    }
   ],
   "source": [
    "marvel_data['SEX']=marvel_data['SEX'].fillna('Unknown Characters')\n",
    "marvel_data['SEX'].value_counts().sum()"
   ]
  },
  {
   "cell_type": "code",
   "execution_count": 70,
   "id": "c20a07e7",
   "metadata": {},
   "outputs": [
    {
     "data": {
      "text/plain": [
       "6896"
      ]
     },
     "execution_count": 70,
     "metadata": {},
     "output_type": "execute_result"
    }
   ],
   "source": [
    "dc_data['ALIVE']=dc_data['ALIVE'].fillna('Unknown Characters')\n",
    "dc_data['ALIVE'].value_counts().sum()"
   ]
  },
  {
   "cell_type": "code",
   "execution_count": 72,
   "id": "9f7e17f5",
   "metadata": {},
   "outputs": [
    {
     "data": {
      "text/plain": [
       "16376"
      ]
     },
     "execution_count": 72,
     "metadata": {},
     "output_type": "execute_result"
    }
   ],
   "source": [
    "marvel_data['ALIVE']=marvel_data['ALIVE'].fillna('Unknown Characters')\n",
    "marvel_data['ALIVE'].value_counts().sum()"
   ]
  },
  {
   "cell_type": "code",
   "execution_count": 74,
   "id": "f17ff7e5",
   "metadata": {},
   "outputs": [
    {
     "data": {
      "text/plain": [
       "6896"
      ]
     },
     "execution_count": 74,
     "metadata": {},
     "output_type": "execute_result"
    }
   ],
   "source": [
    "dc_data['APPEARANCES']=dc_data['APPEARANCES'].fillna(0)\n",
    "dc_data['APPEARANCES'].value_counts().sum()"
   ]
  },
  {
   "cell_type": "code",
   "execution_count": 76,
   "id": "428f92cf",
   "metadata": {},
   "outputs": [
    {
     "data": {
      "text/plain": [
       "16376"
      ]
     },
     "execution_count": 76,
     "metadata": {},
     "output_type": "execute_result"
    }
   ],
   "source": [
    "marvel_data['APPEARANCES']=marvel_data['APPEARANCES'].fillna(0)\n",
    "marvel_data['APPEARANCES'].value_counts().sum()"
   ]
  },
  {
   "cell_type": "code",
   "execution_count": 78,
   "id": "a02a23eb",
   "metadata": {},
   "outputs": [
    {
     "data": {
      "text/plain": [
       "6896"
      ]
     },
     "execution_count": 78,
     "metadata": {},
     "output_type": "execute_result"
    }
   ],
   "source": [
    "dc_data['FIRST APPEARANCE']=dc_data['FIRST APPEARANCE'].fillna(0)\n",
    "dc_data['FIRST APPEARANCE'].value_counts().sum()"
   ]
  },
  {
   "cell_type": "code",
   "execution_count": 80,
   "id": "069955f2",
   "metadata": {},
   "outputs": [
    {
     "data": {
      "text/plain": [
       "16376"
      ]
     },
     "execution_count": 80,
     "metadata": {},
     "output_type": "execute_result"
    }
   ],
   "source": [
    "marvel_data['FIRST APPEARANCE']=marvel_data['FIRST APPEARANCE'].fillna(0)\n",
    "marvel_data['FIRST APPEARANCE'].value_counts().sum()"
   ]
  },
  {
   "cell_type": "code",
   "execution_count": 81,
   "id": "cd6987f9",
   "metadata": {},
   "outputs": [
    {
     "ename": "KeyError",
     "evalue": "'Year'",
     "output_type": "error",
     "traceback": [
      "\u001b[1;31m---------------------------------------------------------------------------\u001b[0m",
      "\u001b[1;31mKeyError\u001b[0m                                  Traceback (most recent call last)",
      "File \u001b[1;32m~\\anaconda3\\lib\\site-packages\\pandas\\core\\indexes\\base.py:3621\u001b[0m, in \u001b[0;36mIndex.get_loc\u001b[1;34m(self, key, method, tolerance)\u001b[0m\n\u001b[0;32m   3620\u001b[0m \u001b[38;5;28;01mtry\u001b[39;00m:\n\u001b[1;32m-> 3621\u001b[0m     \u001b[38;5;28;01mreturn\u001b[39;00m \u001b[38;5;28;43mself\u001b[39;49m\u001b[38;5;241;43m.\u001b[39;49m\u001b[43m_engine\u001b[49m\u001b[38;5;241;43m.\u001b[39;49m\u001b[43mget_loc\u001b[49m\u001b[43m(\u001b[49m\u001b[43mcasted_key\u001b[49m\u001b[43m)\u001b[49m\n\u001b[0;32m   3622\u001b[0m \u001b[38;5;28;01mexcept\u001b[39;00m \u001b[38;5;167;01mKeyError\u001b[39;00m \u001b[38;5;28;01mas\u001b[39;00m err:\n",
      "File \u001b[1;32m~\\anaconda3\\lib\\site-packages\\pandas\\_libs\\index.pyx:136\u001b[0m, in \u001b[0;36mpandas._libs.index.IndexEngine.get_loc\u001b[1;34m()\u001b[0m\n",
      "File \u001b[1;32m~\\anaconda3\\lib\\site-packages\\pandas\\_libs\\index.pyx:163\u001b[0m, in \u001b[0;36mpandas._libs.index.IndexEngine.get_loc\u001b[1;34m()\u001b[0m\n",
      "File \u001b[1;32mpandas\\_libs\\hashtable_class_helper.pxi:5198\u001b[0m, in \u001b[0;36mpandas._libs.hashtable.PyObjectHashTable.get_item\u001b[1;34m()\u001b[0m\n",
      "File \u001b[1;32mpandas\\_libs\\hashtable_class_helper.pxi:5206\u001b[0m, in \u001b[0;36mpandas._libs.hashtable.PyObjectHashTable.get_item\u001b[1;34m()\u001b[0m\n",
      "\u001b[1;31mKeyError\u001b[0m: 'Year'",
      "\nThe above exception was the direct cause of the following exception:\n",
      "\u001b[1;31mKeyError\u001b[0m                                  Traceback (most recent call last)",
      "Input \u001b[1;32mIn [81]\u001b[0m, in \u001b[0;36m<cell line: 1>\u001b[1;34m()\u001b[0m\n\u001b[1;32m----> 1\u001b[0m \u001b[43mdc_data\u001b[49m\u001b[43m[\u001b[49m\u001b[38;5;124;43m'\u001b[39;49m\u001b[38;5;124;43mYear\u001b[39;49m\u001b[38;5;124;43m'\u001b[39;49m\u001b[43m]\u001b[49m\u001b[38;5;241m.\u001b[39mvalue_counts()\n",
      "File \u001b[1;32m~\\anaconda3\\lib\\site-packages\\pandas\\core\\frame.py:3505\u001b[0m, in \u001b[0;36mDataFrame.__getitem__\u001b[1;34m(self, key)\u001b[0m\n\u001b[0;32m   3503\u001b[0m \u001b[38;5;28;01mif\u001b[39;00m \u001b[38;5;28mself\u001b[39m\u001b[38;5;241m.\u001b[39mcolumns\u001b[38;5;241m.\u001b[39mnlevels \u001b[38;5;241m>\u001b[39m \u001b[38;5;241m1\u001b[39m:\n\u001b[0;32m   3504\u001b[0m     \u001b[38;5;28;01mreturn\u001b[39;00m \u001b[38;5;28mself\u001b[39m\u001b[38;5;241m.\u001b[39m_getitem_multilevel(key)\n\u001b[1;32m-> 3505\u001b[0m indexer \u001b[38;5;241m=\u001b[39m \u001b[38;5;28;43mself\u001b[39;49m\u001b[38;5;241;43m.\u001b[39;49m\u001b[43mcolumns\u001b[49m\u001b[38;5;241;43m.\u001b[39;49m\u001b[43mget_loc\u001b[49m\u001b[43m(\u001b[49m\u001b[43mkey\u001b[49m\u001b[43m)\u001b[49m\n\u001b[0;32m   3506\u001b[0m \u001b[38;5;28;01mif\u001b[39;00m is_integer(indexer):\n\u001b[0;32m   3507\u001b[0m     indexer \u001b[38;5;241m=\u001b[39m [indexer]\n",
      "File \u001b[1;32m~\\anaconda3\\lib\\site-packages\\pandas\\core\\indexes\\base.py:3623\u001b[0m, in \u001b[0;36mIndex.get_loc\u001b[1;34m(self, key, method, tolerance)\u001b[0m\n\u001b[0;32m   3621\u001b[0m     \u001b[38;5;28;01mreturn\u001b[39;00m \u001b[38;5;28mself\u001b[39m\u001b[38;5;241m.\u001b[39m_engine\u001b[38;5;241m.\u001b[39mget_loc(casted_key)\n\u001b[0;32m   3622\u001b[0m \u001b[38;5;28;01mexcept\u001b[39;00m \u001b[38;5;167;01mKeyError\u001b[39;00m \u001b[38;5;28;01mas\u001b[39;00m err:\n\u001b[1;32m-> 3623\u001b[0m     \u001b[38;5;28;01mraise\u001b[39;00m \u001b[38;5;167;01mKeyError\u001b[39;00m(key) \u001b[38;5;28;01mfrom\u001b[39;00m \u001b[38;5;21;01merr\u001b[39;00m\n\u001b[0;32m   3624\u001b[0m \u001b[38;5;28;01mexcept\u001b[39;00m \u001b[38;5;167;01mTypeError\u001b[39;00m:\n\u001b[0;32m   3625\u001b[0m     \u001b[38;5;66;03m# If we have a listlike key, _check_indexing_error will raise\u001b[39;00m\n\u001b[0;32m   3626\u001b[0m     \u001b[38;5;66;03m#  InvalidIndexError. Otherwise we fall through and re-raise\u001b[39;00m\n\u001b[0;32m   3627\u001b[0m     \u001b[38;5;66;03m#  the TypeError.\u001b[39;00m\n\u001b[0;32m   3628\u001b[0m     \u001b[38;5;28mself\u001b[39m\u001b[38;5;241m.\u001b[39m_check_indexing_error(key)\n",
      "\u001b[1;31mKeyError\u001b[0m: 'Year'"
     ]
    }
   ],
   "source": [
    "dc_data['Year'].value_counts()"
   ]
  },
  {
   "cell_type": "code",
   "execution_count": null,
   "id": "1d18e217",
   "metadata": {},
   "outputs": [],
   "source": []
  }
 ],
 "metadata": {
  "kernelspec": {
   "display_name": "Python 3 (ipykernel)",
   "language": "python",
   "name": "python3"
  },
  "language_info": {
   "codemirror_mode": {
    "name": "ipython",
    "version": 3
   },
   "file_extension": ".py",
   "mimetype": "text/x-python",
   "name": "python",
   "nbconvert_exporter": "python",
   "pygments_lexer": "ipython3",
   "version": "3.9.12"
  }
 },
 "nbformat": 4,
 "nbformat_minor": 5
}
